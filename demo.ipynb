{
 "cells": [
  {
   "cell_type": "markdown",
   "metadata": {},
   "source": [
    "# Taking Observations"
   ]
  },
  {
   "cell_type": "markdown",
   "metadata": {},
   "source": [
    "### Wave propagation "
   ]
  },
  {
   "cell_type": "code",
   "execution_count": 1,
   "metadata": {},
   "outputs": [],
   "source": [
    "import os\n",
    "import numpy as np\n",
    "from astropy.io import fits\n",
    "import matplotlib.pyplot as plt"
   ]
  },
  {
   "cell_type": "code",
   "execution_count": 2,
   "metadata": {},
   "outputs": [],
   "source": [
    "from medis.medis_main import RunMedis  # this is the top level function\n",
    "from medis.plot_tools import quick2D, grid  # plotting single images or a grid of images\n",
    "from medis.params import ap,tp,atmp,iop,sp,mp  # this is where all the default parameters are stored\n",
    "from medis.utils import dprint  # this is just a useful function"
   ]
  },
  {
   "cell_type": "markdown",
   "metadata": {},
   "source": [
    "Overwrite the parameters we care about"
   ]
  },
  {
   "cell_type": "code",
   "execution_count": 3,
   "metadata": {},
   "outputs": [],
   "source": [
    "# Companion\n",
    "ap.companion = False\n",
    "#ap.contrast = [1e-5]\n",
    "ap.companion_xy = []  # units of this are in lambda/tp.entrance_d\n",
    "ap.n_wvl_init = 1\n",
    "\n",
    "\n",
    "sp.numframes = 1\n",
    "sp.focused_sys = False\n",
    "sp.beam_ratio = 0.3  # parameter dealing with the sampling of the beam in the pupil/focal plane\n",
    "sp.grid_size = 256  # creates a nxn array of samples of the wavefront\n",
    "sp.maskd_size = 256  # will truncate grid_size to this range (avoids FFT artifacts) # set to grid_size if undesired\n",
    "sp.closed_loop = False\n",
    "\n",
    "# Toggles for Aberrations and Control\n",
    "tp.entrance_d = 5\n",
    "tp.fnum_primary = 12\n",
    "tp.flen_primary = tp.entrance_d*tp.fnum_primary\n",
    "tp.dist_primary = tp.flen_primary + 1\n",
    "tp.obscure = False\n",
    "tp.use_atmos = True\n",
    "tp.use_ao = False\n",
    "tp.ao_act = 60\n",
    "tp.rotate_atmos = False\n",
    "tp.rotate_sky = False\n",
    "tp.occult_loc = [0,0]\n",
    "\n",
    "# Saving\n",
    "tp.prescription = 'shashank_telescope'\n",
    "sp.save_to_disk = False  # save obs_sequence (timestep, wavelength, x, y)\n",
    "sp.save_list = ['detector']  # list of locations in optics train to save\n",
    "# sp.skip_planes = ['coronagraph']  # ['wfs', 'deformable mirror']  # list of locations in optics train to save\n",
    "sp.quick_detect = True\n",
    "sp.debug = False\n",
    "sp.verbose = True\n",
    "tp.use_aber= True\n",
    "tp.add_zern = False\n",
    "\n",
    "ap.n_wvl_init = 3\n",
    "\n",
    "# todo convert parameterss defined here to their own prescription params class\n",
    "tp.lens_params = [{'aber_vals': [5e-18, 2.0, 3.1], 'diam': tp.entrance_d,  'focal_length': tp.flen_primary, 'dist' : tp.dist_primary, 'name': 'CPA'},\n",
    "                  {'aber_vals': [5e-18, 2.0, 3.1], 'diam': tp.entrance_d, 'focal_length': tp.flen_primary, 'dist': tp.dist_primary, 'name': 'NCPA'}]\n",
    "\n",
    "\n",
    "TESTDIR = 'demo'"
   ]
  },
  {
   "cell_type": "markdown",
   "metadata": {},
   "source": [
    "First lets just intialise a simulation that generates ideal electric fields (no photon noise or dead pixels etc) for this system. This will create the top \"test\" directory if it does not already exist. If it does exist the params file will be checked against the requested parameters to see if they match (has not been fully verified yet)"
   ]
  },
  {
   "cell_type": "code",
   "execution_count": 4,
   "metadata": {},
   "outputs": [
    {
     "name": "stdout",
     "output_type": "stream",
     "text": [
      "\n",
      "\t Astro_params\n",
      "{'C_spec': 1.5,\n",
      " 'companion': False,\n",
      " 'companion_xy': [],\n",
      " 'contrast': [],\n",
      " 'interp_wvl': True,\n",
      " 'n_wvl_final': None,\n",
      " 'n_wvl_init': 3,\n",
      " 'spectra': [None, None],\n",
      " 'star_flux': 100000,\n",
      " 'wvl_range': array([8.0e-07, 1.5e-06])}\n",
      "\n",
      "\t Telescope_params\n",
      "{'abertime': 0.5,\n",
      " 'add_zern': False,\n",
      " 'ao_act': 60,\n",
      " 'cg_size': 3,\n",
      " 'cg_size_units': 'l/D',\n",
      " 'cg_type': 'Gaussian',\n",
      " 'dist_primary': 61,\n",
      " 'entrance_d': 5,\n",
      " 'fit_dm': True,\n",
      " 'fl_cg_lens': 1000,\n",
      " 'flen_primary': 60,\n",
      " 'fnum_primary': 12,\n",
      " 'legs_frac': 0.03,\n",
      " 'lens_params': [{'aber_vals': [5e-18, 2.0, 3.1],\n",
      "                  'diam': 5,\n",
      "                  'dist': 61,\n",
      "                  'focal_length': 60,\n",
      "                  'name': 'CPA'},\n",
      "                 {'aber_vals': [5e-18, 2.0, 3.1],\n",
      "                  'diam': 5,\n",
      "                  'dist': 61,\n",
      "                  'focal_length': 60,\n",
      "                  'name': 'NCPA'}],\n",
      " 'lyot_size': 0.75,\n",
      " 'obscure': False,\n",
      " 'occult_loc': [0, 0],\n",
      " 'piston_error': False,\n",
      " 'pix_shift': [0, 0],\n",
      " 'prescription': 'shashank_telescope',\n",
      " 'rotate_atmos': False,\n",
      " 'rotate_sky': False,\n",
      " 'satelite_speck': {'amp': 1.2e-08,\n",
      "                    'apply': False,\n",
      "                    'phase': 0.6283185307179586,\n",
      "                    'xloc': 12,\n",
      "                    'yloc': 12},\n",
      " 'servo_error': [0, 1],\n",
      " 'use_aber': True,\n",
      " 'use_ao': False,\n",
      " 'use_atmos': True,\n",
      " 'zernike_orders': [2, 3, 4],\n",
      " 'zernike_vals': array([ 1.75e-07, -1.50e-07,  2.00e-07])}\n",
      "\n",
      "\t Atmos_params\n",
      "{'L0': 10,\n",
      " 'cn_sq': 2.2e-13,\n",
      " 'correlated_sampling': False,\n",
      " 'fried': 0.2,\n",
      " 'h': 100,\n",
      " 'model': 'single',\n",
      " 'std': 2,\n",
      " 'tau': 0.01,\n",
      " 'vel': 5}\n",
      "\n",
      "\t CDI_params\n",
      "{'null_time': 0,\n",
      " 'phase_integration_time': 0.01,\n",
      " 'phs_intervals': 1.5707963267948966,\n",
      " 'probe_amp': 2e-06,\n",
      " 'probe_h': 30,\n",
      " 'probe_shift': (15, 15),\n",
      " 'probe_spacing': 10,\n",
      " 'probe_w': 10,\n",
      " 'show_probe': False,\n",
      " 'use_cdi': False,\n",
      " 'which_DM': ''}\n",
      "\n",
      "\t IO_params\n",
      "{'aberdir': '/Users/shashank/MKIDSim/demo/justfields/aberrations/gridsz{}_bmratio{}_tsteps{}',\n",
      " 'aberroot': 'aberrations',\n",
      " 'atmosdir': '/Users/shashank/MKIDSim/demo/justfields/atmos/gridsz{}_bmratio{}_tsteps{}',\n",
      " 'atmosroot': 'atmos',\n",
      " 'camera': '/Users/shashank/MKIDSim/demo/justfields/camera.pkl',\n",
      " 'datadir': '/Users/shashank/MKIDSim/',\n",
      " 'device': '/Users/shashank/MKIDSim/demo/justfields/device.pkl',\n",
      " 'fields': '/Users/shashank/MKIDSim/demo/justfields/fields.h5',\n",
      " 'params_logs': '/Users/shashank/MKIDSim/demo/justfields/params.pkl',\n",
      " 'photonlist': '/Users/shashank/MKIDSim/demo/justfields/photonlist.h5',\n",
      " 'prescopydir': '/Users/shashank/MKIDSim/demo/justfields/prescription/{}',\n",
      " 'prescopyroot': 'prescription',\n",
      " 'prescriptions_root': '/Users/shashank/MEDIS/simulations',\n",
      " 'telescope': '/Users/shashank/MKIDSim/demo/justfields/telescope.pkl',\n",
      " 'testdir': '/Users/shashank/MKIDSim/demo/justfields',\n",
      " 'testname': 'demo/justfields'}\n",
      "\n",
      "\t Simulation_params\n",
      "{'ao_delay': 0,\n",
      " 'auto_load': False,\n",
      " 'beam_ratio': 0.3,\n",
      " 'checkpointing': 500,\n",
      " 'chunking': False,\n",
      " 'closed_loop': False,\n",
      " 'debug': False,\n",
      " 'degrade_photons': True,\n",
      " 'focused_sys': False,\n",
      " 'grid_size': 256,\n",
      " 'maskd_size': 256,\n",
      " 'memory_limit': 10,\n",
      " 'num_processes': 1,\n",
      " 'numframes': 1,\n",
      " 'quick_companions': False,\n",
      " 'quick_detect': True,\n",
      " 'sample_time': 0.01,\n",
      " 'save_list': ['detector'],\n",
      " 'save_to_disk': False,\n",
      " 'show_spectra': False,\n",
      " 'show_tseries': False,\n",
      " 'show_wframe': True,\n",
      " 'skip_functions': [],\n",
      " 'spectra_cols': 2,\n",
      " 'startframe': 0,\n",
      " 'timing': True,\n",
      " 'tseries_cols': 2,\n",
      " 'verbose': True}\n",
      "\n",
      "\t MKID_params\n",
      "{'QE_map': None,\n",
      " 'QE_var': False,\n",
      " 'R_mean': 50,\n",
      " 'R_sig': 2,\n",
      " 'R_spec': -0.1,\n",
      " 'array_size': array([129, 129]),\n",
      " 'bad_pix': False,\n",
      " 'bg_mean': 0,\n",
      " 'bg_sig': 30,\n",
      " 'bin_time': 0.002,\n",
      " 'dark_bright': 10,\n",
      " 'dark_counts': False,\n",
      " 'dark_pix_frac': 0.1,\n",
      " 'dead_time': 0.02,\n",
      " 'frame_int': 0.05,\n",
      " 'g_mean': 0.95,\n",
      " 'g_sig': 0.025,\n",
      " 'g_spec': -0.1,\n",
      " 'hot_bright': 1000.0,\n",
      " 'hot_pix': 0,\n",
      " 'lod': 8,\n",
      " 'max_count': 2500.0,\n",
      " 'nlod': 10,\n",
      " 'phase_background': False,\n",
      " 'phase_uncertainty': False,\n",
      " 'pix_yield': 0.9,\n",
      " 'platescale': 0.01,\n",
      " 'quantize_FCs': False,\n",
      " 'r_mean': 1,\n",
      " 'r_sig': 0.05,\n",
      " 'remove_close': False,\n",
      " 'res_elements': 129,\n",
      " 'resamp': True,\n",
      " 't_frames': 20,\n",
      " 'threshold_phase': 0,\n",
      " 'total_int': 1,\n",
      " 'wavecal_coeffs': [83333333.33333333, -157]}\n",
      "\n",
      "Checking Matching Params Classes:\n",
      "param: ap, match: True\n",
      "param: tp, match: True\n",
      "param: atmp, match: True\n",
      "param: iop, match: True\n",
      "param: sp, match: True\n",
      "param: mp, match: True\n",
      "param: cp, match: True\n",
      "Configuration files match. Initialization over\n"
     ]
    }
   ],
   "source": [
    "sim = RunMedis(name=f'{TESTDIR}/justfields', product='fields')"
   ]
  },
  {
   "cell_type": "markdown",
   "metadata": {},
   "source": [
    "Calling sim will begin the observation that generates the fields ndarray. It will create all the directories, atmosphere maps, aberration maps, coronagraph maps and check if the simulation needs to be chunked to fit into the dynamic memory or not"
   ]
  },
  {
   "cell_type": "markdown",
   "metadata": {},
   "source": [
    "since params['sp'].debug is True it will produce lots of plots"
   ]
  },
  {
   "cell_type": "code",
   "execution_count": 5,
   "metadata": {
    "scrolled": false
   },
   "outputs": [
    {
     "name": "stdout",
     "output_type": "stream",
     "text": [
      "Using prescription /Users/shashank/MEDIS/simulations/shashank_telescope/shashank_telescope.py\n",
      "\n",
      "Created TAP+ (v1.2.1) - Connection:\n",
      "\tHost: gea.esac.esa.int\n",
      "\tUse HTTPS: True\n",
      "\tPort: 443\n",
      "\tSSL Port: 443\n",
      "Created TAP+ (v1.2.1) - Connection:\n",
      "\tHost: geadata.esac.esa.int\n",
      "\tUse HTTPS: True\n",
      "\tPort: 443\n",
      "\tSSL Port: 443\n",
      "Atmosphere maps already exist at \n",
      "\t/Users/shashank/MKIDSim/demo/justfields/atmos/gridsz256_bmratio0.3_tsteps1 \n",
      "... skipping generation\n",
      "\n",
      "\n",
      "Aberration maps already exist at \n",
      "\t/Users/shashank/MKIDSim/demo/justfields/aberrations/gridsz256_bmratio0.3_tsteps1 \n",
      "... skipping generation\n",
      "\n",
      "\n",
      "Each timestep is predicted to be 0.786432 MB, meaning no more than 12715.0 time steps can fit in the memory at one time\n",
      "File total size should be 0.786432 MB\n",
      "Using time chunks of size 1\n",
      "No mode specfified defaulting to markov (time independent)\n",
      "\n",
      "\n",
      "\tBeginning Telescope Simulation with MEDIS\n",
      "\n",
      "\n"
     ]
    },
    {
     "name": "stderr",
     "output_type": "stream",
     "text": [
      "/Users/shashank/anaconda3/envs/mirisim/lib/python3.6/site-packages/scipy/ndimage/interpolation.py:583: UserWarning: From scipy 0.13.0, the output shape of zoom() is calculated with round() instead of int() - for these inputs the size of the returned array has changed.\n",
      "  \"the returned array has changed.\", UserWarning)\n"
     ]
    },
    {
     "name": "stdout",
     "output_type": "stream",
     "text": [
      "0.009900710699860624\n"
     ]
    },
    {
     "name": "stderr",
     "output_type": "stream",
     "text": [
      "WARNING: W35: None:5:0: W35: 'value' attribute required for INFO elements [astropy.io.votable.tree]\n",
      "WARNING: W35: None:29:0: W35: 'value' attribute required for INFO elements [astropy.io.votable.tree]\n",
      "WARNING: W35: None:30:0: W35: 'value' attribute required for INFO elements [astropy.io.votable.tree]\n",
      "WARNING: W35: None:31:0: W35: 'value' attribute required for INFO elements [astropy.io.votable.tree]\n",
      "WARNING: W35: None:33:0: W35: 'value' attribute required for INFO elements [astropy.io.votable.tree]\n",
      "WARNING: W06: None:71:0: W06: Invalid UCD 'arith.ratio': Secondary word 'arith.ratio' is not valid as a primary word [astropy.io.votable.tree]\n",
      "WARNING: W50: None:74:0: W50: Invalid unit string 'mas.yr**-1' [astropy.io.votable.tree]\n",
      "WARNING: W50: None:77:0: W50: Invalid unit string 'mas.yr**-1' [astropy.io.votable.tree]\n",
      "WARNING: W50: None:80:0: W50: Invalid unit string 'mas.yr**-1' [astropy.io.votable.tree]\n",
      "WARNING: W50: None:83:0: W50: Invalid unit string 'mas.yr**-1' [astropy.io.votable.tree]\n",
      "WARNING: W50: None:146:0: W50: Invalid unit string 'mas**-2' [astropy.io.votable.tree]\n",
      "WARNING: W50: None:149:0: W50: Invalid unit string 'um**-1' [astropy.io.votable.tree]\n",
      "WARNING: W06: None:152:0: W06: Invalid UCD 'em.wavenumber;stat.error': Primary word 'stat.error' is not valid as a secondary word [astropy.io.votable.tree]\n",
      "WARNING: W50: None:152:0: W50: Invalid unit string 'um**-1' [astropy.io.votable.tree]\n",
      "WARNING: W06: None:164:0: W06: Invalid UCD 'pos.errorEllipse;stat.max': Secondary word 'pos.errorEllipse' is not valid as a primary word [astropy.io.votable.tree]\n",
      "WARNING: W50: None:179:0: W50: Invalid unit string ''electron'.s**-1' [astropy.io.votable.tree]\n",
      "WARNING: W50: None:182:0: W50: Invalid unit string ''electron'.s**-1' [astropy.io.votable.tree]\n",
      "WARNING: W06: None:185:0: W06: Invalid UCD 'arith.ratio': Secondary word 'arith.ratio' is not valid as a primary word [astropy.io.votable.tree]\n",
      "WARNING: W50: None:194:0: W50: Invalid unit string ''electron'.s**-1' (suppressing further warnings of this type...) [astropy.io.votable.tree]\n",
      "WARNING: W06: None:200:0: W06: Invalid UCD 'arith.ratio': Secondary word 'arith.ratio' is not valid as a primary word [astropy.io.votable.tree]\n",
      "WARNING: W06: None:215:0: W06: Invalid UCD 'arith.ratio': Secondary word 'arith.ratio' is not valid as a primary word [astropy.io.votable.tree]\n",
      "WARNING: W06: None:227:0: W06: Invalid UCD 'phot.color': Unknown word 'phot.color' [astropy.io.votable.tree]\n",
      "WARNING: W06: None:230:0: W06: Invalid UCD 'phot.color': Unknown word 'phot.color' [astropy.io.votable.tree]\n",
      "WARNING: W06: None:233:0: W06: Invalid UCD 'phot.color': Unknown word 'phot.color' [astropy.io.votable.tree]\n",
      "WARNING: W06: None:305:0: W06: Invalid UCD 'phys.size.radius;stat.error': Primary word 'stat.error' is not valid as a secondary word (suppressing further warnings of this type...) [astropy.io.votable.tree]\n",
      "2020-08-24 18:41:28,615 - INFO - Initializing Background\n",
      "2020-08-24 18:41:28,617 - INFO - Initializing Point\n"
     ]
    },
    {
     "name": "stdout",
     "output_type": "stream",
     "text": [
      "INFO: Query finished. [astroquery.utils.tap.core]\n",
      "         dist             solution_id     ... epoch_photometry_url\n",
      "                                          ...                     \n",
      "--------------------- ------------------- ... --------------------\n",
      "0.0004245709664307645 1635721458409799680 ...                   --\n",
      "5778.0\n",
      "[0]\n"
     ]
    },
    {
     "name": "stderr",
     "output_type": "stream",
     "text": [
      "/Users/shashank/anaconda3/envs/mirisim/lib/python3.6/site-packages/astropy/convolution/convolve.py:92: ComplexWarning: Casting complex values to real discards the imaginary part\n",
      "  output = np.array(input, dtype=dtype, copy=False, order=order, subok=True)\n"
     ]
    },
    {
     "name": "stdout",
     "output_type": "stream",
     "text": [
      "[1]\n",
      "[2]\n",
      "MEDIS/medis/optics.py:211 - saving plane at detector\n",
      "Finished datacube at timestep = 0\n",
      "\n",
      "\n",
      "\tMEDIS Telescope Run Completed\n",
      "\n",
      "Time elapsed: 0.40 minutes\n",
      "Shape of cpx_sequence = timesteps:1, save planes:1, wavelengths:3, astronomical bodies:1, x:256, y:256\n"
     ]
    },
    {
     "data": {
      "image/png": "[encoded data removed]",
      "text/plain": [
       "<Figure size 432x288 with 2 Axes>"
      ]
     },
     "metadata": {
      "needs_background": "light"
     },
     "output_type": "display_data"
    }
   ],
   "source": [
    "observation = sim()"
   ]
  },
  {
   "cell_type": "code",
   "execution_count": null,
   "metadata": {},
   "outputs": [],
   "source": []
  },
  {
   "cell_type": "markdown",
   "metadata": {},
   "source": [
    "This demonstration shows reflections in the focal plane at wide separation which woould be reduced with an increase in grid_size and decrease in beam_ratio if neccessary."
   ]
  },
  {
   "cell_type": "markdown",
   "metadata": {},
   "source": [
    "From this dictionary we can look at the fields ndarray before the convolution:"
   ]
  },
  {
   "cell_type": "code",
   "execution_count": null,
   "metadata": {},
   "outputs": [],
   "source": [
    "print(observation.keys())\n",
    "fields = observation['fields']\n",
    "grid(np.angle(fields[0,0]), vlim=(-np.pi, np.pi), show=False, cmap='sunlight')\n",
    "grid(fields[0,0], logZ=False, nstd=2, show=True)\n",
    "print(np.max(fields[0,0]))"
   ]
  },
  {
   "cell_type": "markdown",
   "metadata": {},
   "source": [
    "The sources image that is convolved using the kernel above:"
   ]
  },
  {
   "cell_type": "code",
   "execution_count": null,
   "metadata": {},
   "outputs": [],
   "source": [
    "%matplotlib notebook\n",
    "hdulist = fits.open(\"/Users/shashank/AnacondaProjects/MKIDsim/shashank_example_scene.fits\")\n",
    "hdulist[0].data.shape\n",
    "hdulist[0].header\n",
    "timeslice = 0\n",
    "hdulist[0].data = np.nan_to_num(hdulist[0].data)\n",
    "plt.imshow(hdulist[0].data[timeslice])\n",
    "plt.xlabel(\"X (pixels)\")\n",
    "plt.ylabel(\"Y (pixels)\")\n",
    "print(np.max(hdulist[0].data[timeslice]))\n",
    "plt.colorbar()"
   ]
  },
  {
   "cell_type": "markdown",
   "metadata": {},
   "source": [
    "And after the convolution:"
   ]
  },
  {
   "cell_type": "code",
   "execution_count": 6,
   "metadata": {},
   "outputs": [
    {
     "name": "stdout",
     "output_type": "stream",
     "text": [
      "dict_keys(['fields', 'sampling'])\n"
     ]
    },
    {
     "ename": "IndexError",
     "evalue": "index 1 is out of bounds for axis 1 with size 1",
     "output_type": "error",
     "traceback": [
      "\u001b[0;31m---------------------------------------------------------------------------\u001b[0m",
      "\u001b[0;31mIndexError\u001b[0m                                Traceback (most recent call last)",
      "\u001b[0;32m<ipython-input-6-81a081bda001>\u001b[0m in \u001b[0;36m<module>\u001b[0;34m\u001b[0m\n\u001b[1;32m      2\u001b[0m \u001b[0mprint\u001b[0m\u001b[0;34m(\u001b[0m\u001b[0mobservation\u001b[0m\u001b[0;34m.\u001b[0m\u001b[0mkeys\u001b[0m\u001b[0;34m(\u001b[0m\u001b[0;34m)\u001b[0m\u001b[0;34m)\u001b[0m\u001b[0;34m\u001b[0m\u001b[0;34m\u001b[0m\u001b[0m\n\u001b[1;32m      3\u001b[0m \u001b[0mfields\u001b[0m \u001b[0;34m=\u001b[0m \u001b[0mobservation\u001b[0m\u001b[0;34m[\u001b[0m\u001b[0;34m'fields'\u001b[0m\u001b[0;34m]\u001b[0m\u001b[0;34m\u001b[0m\u001b[0;34m\u001b[0m\u001b[0m\n\u001b[0;32m----> 4\u001b[0;31m \u001b[0mgrid\u001b[0m\u001b[0;34m(\u001b[0m\u001b[0mnp\u001b[0m\u001b[0;34m.\u001b[0m\u001b[0mangle\u001b[0m\u001b[0;34m(\u001b[0m\u001b[0mfields\u001b[0m\u001b[0;34m[\u001b[0m\u001b[0;36m0\u001b[0m\u001b[0;34m,\u001b[0m\u001b[0;36m1\u001b[0m\u001b[0;34m]\u001b[0m\u001b[0;34m)\u001b[0m\u001b[0;34m,\u001b[0m \u001b[0mvlim\u001b[0m\u001b[0;34m=\u001b[0m\u001b[0;34m(\u001b[0m\u001b[0;34m-\u001b[0m\u001b[0mnp\u001b[0m\u001b[0;34m.\u001b[0m\u001b[0mpi\u001b[0m\u001b[0;34m,\u001b[0m \u001b[0mnp\u001b[0m\u001b[0;34m.\u001b[0m\u001b[0mpi\u001b[0m\u001b[0;34m)\u001b[0m\u001b[0;34m,\u001b[0m \u001b[0mshow\u001b[0m\u001b[0;34m=\u001b[0m\u001b[0;32mTrue\u001b[0m\u001b[0;34m,\u001b[0m \u001b[0mcmap\u001b[0m\u001b[0;34m=\u001b[0m\u001b[0;34m'sunlight'\u001b[0m\u001b[0;34m)\u001b[0m\u001b[0;34m\u001b[0m\u001b[0;34m\u001b[0m\u001b[0m\n\u001b[0m\u001b[1;32m      5\u001b[0m \u001b[0mgrid\u001b[0m\u001b[0;34m(\u001b[0m\u001b[0mfields\u001b[0m\u001b[0;34m[\u001b[0m\u001b[0;36m0\u001b[0m\u001b[0;34m,\u001b[0m\u001b[0;36m1\u001b[0m\u001b[0;34m]\u001b[0m\u001b[0;34m,\u001b[0m \u001b[0mlogZ\u001b[0m\u001b[0;34m=\u001b[0m\u001b[0;32mTrue\u001b[0m\u001b[0;34m,\u001b[0m \u001b[0mnstd\u001b[0m\u001b[0;34m=\u001b[0m\u001b[0;36m2\u001b[0m\u001b[0;34m,\u001b[0m \u001b[0mshow\u001b[0m\u001b[0;34m=\u001b[0m\u001b[0;32mTrue\u001b[0m\u001b[0;34m)\u001b[0m\u001b[0;34m\u001b[0m\u001b[0;34m\u001b[0m\u001b[0m\n",
      "\u001b[0;31mIndexError\u001b[0m: index 1 is out of bounds for axis 1 with size 1"
     ]
    }
   ],
   "source": [
    "%matplotlib inline\n",
    "print(observation.keys())\n",
    "fields = observation['fields']\n",
    "grid(np.angle(fields[0,1]), vlim=(-np.pi, np.pi), show=True, cmap='sunlight')\n",
    "grid(fields[0,1], logZ=True, nstd=2, show=True)"
   ]
  },
  {
   "cell_type": "code",
   "execution_count": null,
   "metadata": {},
   "outputs": [],
   "source": [
    "plt.imshow(np.real(fields[0,1,0,0]*np.conj(fields[0,1,0,0])))\n",
    "plt.colorbar()\n",
    "plt.xlabel(\"X (pixels)\")\n",
    "plt.ylabel(\"Y (pixels)\")"
   ]
  },
  {
   "cell_type": "code",
   "execution_count": null,
   "metadata": {},
   "outputs": [],
   "source": [
    "from astropy.convolution import convolve\n",
    "test_arr = convolve(hdulist[0].data[timeslice],fields[0,0,0,0][:-1,:-1],boundary='extend',normalize_kernel=True)\n",
    "plt.imshow(np.real(test_arr*np.conj(test_arr)))\n",
    "plt.colorbar()\n",
    "plt.xlabel(\"X (pixels)\")\n",
    "plt.ylabel(\"Y (pixels)\")"
   ]
  },
  {
   "cell_type": "markdown",
   "metadata": {},
   "source": [
    "### Quantization"
   ]
  },
  {
   "cell_type": "markdown",
   "metadata": {},
   "source": [
    "Now lets repeat the process but use the product == 'photons' option for RunMedis "
   ]
  },
  {
   "cell_type": "code",
   "execution_count": null,
   "metadata": {},
   "outputs": [],
   "source": [
    "sp.debug = False  # we already know what the planes look like now\n",
    "sp.save_to_disk = True  # save fields and save photons so they can be loaded\n",
    "ap.star_flux = 1e9  # lets assume 1e9 photons across the array per second\n",
    "mp.platescale = 10 *1e-3 # 10mas/pix\n",
    "mp.array_size = np.array([100,100])  # this will take the center 100*10mas of the input image\n",
    "sp.numframes = 20 # 20 * 0.5 ms = 10 ms of photon data\n",
    "sim = RunMedis( name=f'{TESTDIR}/photonlist', product='rebinned_cube')"
   ]
  },
  {
   "cell_type": "markdown",
   "metadata": {},
   "source": [
    "This will create a new folder with a new fields ndarray (this time with more timesteps) and generate photons from it"
   ]
  },
  {
   "cell_type": "code",
   "execution_count": null,
   "metadata": {
    "scrolled": true
   },
   "outputs": [],
   "source": [
    "observation = sim()"
   ]
  },
  {
   "cell_type": "markdown",
   "metadata": {},
   "source": [
    "The simulation produced 100000 photons with 20 time samples, 1 wavelength sample on a 100 by 100 array"
   ]
  },
  {
   "cell_type": "markdown",
   "metadata": {},
   "source": [
    "observation['stackcube'] is already in nice format for viewing. Lets plot every 5th timestep"
   ]
  },
  {
   "cell_type": "code",
   "execution_count": null,
   "metadata": {},
   "outputs": [],
   "source": [
    "grid(observation['rebinned_cube'], show=True, title='Rebinned photon data')"
   ]
  },
  {
   "cell_type": "code",
   "execution_count": null,
   "metadata": {},
   "outputs": [],
   "source": []
  }
 ],
 "metadata": {
  "kernelspec": {
   "display_name": "Python 3",
   "language": "python",
   "name": "python3"
  },
  "language_info": {
   "codemirror_mode": {
    "name": "ipython",
    "version": 3
   },
   "file_extension": ".py",
   "mimetype": "text/x-python",
   "name": "python",
   "nbconvert_exporter": "python",
   "pygments_lexer": "ipython3",
   "version": "3.6.8"
  }
 },
 "nbformat": 4,
 "nbformat_minor": 1
}
